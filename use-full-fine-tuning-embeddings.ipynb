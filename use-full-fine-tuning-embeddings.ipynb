{
 "cells": [
  {
   "cell_type": "markdown",
   "metadata": {},
   "source": [
    "imports"
   ]
  },
  {
   "cell_type": "code",
   "execution_count": 1,
   "metadata": {},
   "outputs": [],
   "source": [
    "from sentence_transformers import SentenceTransformer\n",
    "from datasets import load_dataset\n",
    "import numpy as np"
   ]
  },
  {
   "cell_type": "markdown",
   "metadata": {},
   "source": [
    "Load Model"
   ]
  },
  {
   "cell_type": "code",
   "execution_count": 2,
   "metadata": {},
   "outputs": [
    {
     "data": {
      "application/vnd.jupyter.widget-view+json": {
       "model_id": "f194b2027d41449c8bc6183aeb5a4eba",
       "version_major": 2,
       "version_minor": 0
      },
      "text/plain": [
       "model.safetensors:  32%|###1      | 105M/328M [00:00<?, ?B/s]"
      ]
     },
     "metadata": {},
     "output_type": "display_data"
    },
    {
     "data": {
      "application/vnd.jupyter.widget-view+json": {
       "model_id": "5f5800b9847b49acbf63cd5d70570297",
       "version_major": 2,
       "version_minor": 0
      },
      "text/plain": [
       "tokenizer_config.json:   0%|          | 0.00/1.44k [00:00<?, ?B/s]"
      ]
     },
     "metadata": {},
     "output_type": "display_data"
    },
    {
     "data": {
      "application/vnd.jupyter.widget-view+json": {
       "model_id": "f1fe58eae1a04283806455a41c6289e6",
       "version_major": 2,
       "version_minor": 0
      },
      "text/plain": [
       "vocab.json:   0%|          | 0.00/798k [00:00<?, ?B/s]"
      ]
     },
     "metadata": {},
     "output_type": "display_data"
    },
    {
     "data": {
      "application/vnd.jupyter.widget-view+json": {
       "model_id": "85918022e7bb40afb61fa18ae3a0bf6e",
       "version_major": 2,
       "version_minor": 0
      },
      "text/plain": [
       "merges.txt:   0%|          | 0.00/456k [00:00<?, ?B/s]"
      ]
     },
     "metadata": {},
     "output_type": "display_data"
    },
    {
     "data": {
      "application/vnd.jupyter.widget-view+json": {
       "model_id": "ae0936ecb6f842078b81dad88c84fe7e",
       "version_major": 2,
       "version_minor": 0
      },
      "text/plain": [
       "tokenizer.json:   0%|          | 0.00/3.56M [00:00<?, ?B/s]"
      ]
     },
     "metadata": {},
     "output_type": "display_data"
    },
    {
     "data": {
      "application/vnd.jupyter.widget-view+json": {
       "model_id": "71840e5533e741fca11a3171fac066b0",
       "version_major": 2,
       "version_minor": 0
      },
      "text/plain": [
       "special_tokens_map.json:   0%|          | 0.00/964 [00:00<?, ?B/s]"
      ]
     },
     "metadata": {},
     "output_type": "display_data"
    },
    {
     "data": {
      "application/vnd.jupyter.widget-view+json": {
       "model_id": "c14ebd7d03bd4937b4e63d5f1080706f",
       "version_major": 2,
       "version_minor": 0
      },
      "text/plain": [
       "1_Pooling%2Fconfig.json:   0%|          | 0.00/296 [00:00<?, ?B/s]"
      ]
     },
     "metadata": {},
     "output_type": "display_data"
    }
   ],
   "source": [
    "model = SentenceTransformer(\"krshahvivek/distilroberta-ai-job-embeddings\")"
   ]
  },
  {
   "cell_type": "markdown",
   "metadata": {},
   "source": [
    "Load data from hugging face"
   ]
  },
  {
   "cell_type": "code",
   "execution_count": 3,
   "metadata": {},
   "outputs": [],
   "source": [
    "dataset = load_dataset(\"shawhin/ai-job-embedding-finetuning\")"
   ]
  },
  {
   "cell_type": "markdown",
   "metadata": {},
   "source": [
    "Use it"
   ]
  },
  {
   "cell_type": "code",
   "execution_count": 4,
   "metadata": {},
   "outputs": [
    {
     "name": "stdout",
     "output_type": "stream",
     "text": [
      "torch.Size([1, 102])\n"
     ]
    }
   ],
   "source": [
    "# new query\n",
    "query = \"data scienist 6 year experience, LLMs, credit risk, content marketing\"\n",
    "query_embedding = model.encode(query)\n",
    "\n",
    "# encode JDs\n",
    "jd_embeddings = model.encode(dataset[\"test\"][\"job_description_pos\"])\n",
    "\n",
    "# compute similarities\n",
    "similarities = model.similarity(query_embedding, jd_embeddings)\n",
    "print(similarities.shape)"
   ]
  },
  {
   "cell_type": "code",
   "execution_count": 5,
   "metadata": {},
   "outputs": [
    {
     "data": {
      "text/plain": [
       "'Skills/Attributes: Data Analysis, Loan Processing, Microsoft Office, SQL Job Description\\n**Only those lawfully authorized to work in the designated country associated with the position will be considered.**\\n**Please note that all Position start dates and duration are estimates and may be reduced or lengthened based upon a client’s business needs and requirements.**\\nRequired Education:• Bachelors/University degree\\nRequired Qualifications:• 10+ years of experience in finance/ project management• Experience and proficiency in building data pipelines and performing analytics using KNIME (or similar software• Experience creating team SharePoint sites and maintaining content to make information and documents easily accessible• Proficiency with Visual Basic for Applications (VBA) for Microsoft Office• Proficiency with SQL and relational database management systems• Strong proficiency with Microsoft Excel• Significant experience building end-user tools with Microsoft Access• Additional experience and knowledge for Internal Candidate• Experience in using Lynx UI, Optima Cognos Reporting Tool, (Facility Management, Collateral), and extracting data from Data Globe (especially data schemas: DGSTREAM, DGFU, DGREF & DGLOBE)• Good understanding of Loan data hierarchy (Request/Credit Agreement/Facility/GFRN) in Lynx'"
      ]
     },
     "execution_count": 5,
     "metadata": {},
     "output_type": "execute_result"
    }
   ],
   "source": [
    "# sort JDs based on similarity\n",
    "simiarities_argsorted = np.argsort(similarities.numpy(), axis=1)\n",
    "\n",
    "# return most similar job description\n",
    "dataset[\"test\"][\"job_description_pos\"][int(simiarities_argsorted[0][-1])]"
   ]
  }
 ],
 "metadata": {
  "kernelspec": {
   "display_name": ".venv",
   "language": "python",
   "name": "python3"
  },
  "language_info": {
   "codemirror_mode": {
    "name": "ipython",
    "version": 3
   },
   "file_extension": ".py",
   "mimetype": "text/x-python",
   "name": "python",
   "nbconvert_exporter": "python",
   "pygments_lexer": "ipython3",
   "version": "3.10.12"
  }
 },
 "nbformat": 4,
 "nbformat_minor": 2
}
