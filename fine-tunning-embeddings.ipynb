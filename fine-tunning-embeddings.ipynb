{
 "cells": [
  {
   "cell_type": "markdown",
   "metadata": {},
   "source": [
    "Full Fine-tune Text Embeddings for AI Job Search"
   ]
  },
  {
   "cell_type": "markdown",
   "metadata": {},
   "source": [
    "Imports"
   ]
  },
  {
   "cell_type": "code",
   "execution_count": 4,
   "metadata": {},
   "outputs": [
    {
     "name": "stdout",
     "output_type": "stream",
     "text": [
      "Collecting sentence-transformers==3.4.1\n",
      "  Downloading sentence_transformers-3.4.1-py3-none-any.whl.metadata (10 kB)\n",
      "Requirement already satisfied: transformers<5.0.0,>=4.41.0 in /home/vivekkumar/vivek/AI_Tool/.venv/lib/python3.10/site-packages (from sentence-transformers==3.4.1) (4.48.3)\n",
      "Requirement already satisfied: tqdm in /home/vivekkumar/vivek/AI_Tool/.venv/lib/python3.10/site-packages (from sentence-transformers==3.4.1) (4.67.1)\n",
      "Requirement already satisfied: torch>=1.11.0 in /home/vivekkumar/vivek/AI_Tool/.venv/lib/python3.10/site-packages (from sentence-transformers==3.4.1) (2.6.0)\n",
      "Requirement already satisfied: scikit-learn in /home/vivekkumar/vivek/AI_Tool/.venv/lib/python3.10/site-packages (from sentence-transformers==3.4.1) (1.6.1)\n",
      "Requirement already satisfied: scipy in /home/vivekkumar/vivek/AI_Tool/.venv/lib/python3.10/site-packages (from sentence-transformers==3.4.1) (1.15.1)\n",
      "Requirement already satisfied: huggingface-hub>=0.20.0 in /home/vivekkumar/vivek/AI_Tool/.venv/lib/python3.10/site-packages (from sentence-transformers==3.4.1) (0.28.1)\n",
      "Requirement already satisfied: Pillow in /home/vivekkumar/vivek/AI_Tool/.venv/lib/python3.10/site-packages (from sentence-transformers==3.4.1) (11.1.0)\n",
      "Requirement already satisfied: filelock in /home/vivekkumar/vivek/AI_Tool/.venv/lib/python3.10/site-packages (from huggingface-hub>=0.20.0->sentence-transformers==3.4.1) (3.17.0)\n",
      "Requirement already satisfied: fsspec>=2023.5.0 in /home/vivekkumar/vivek/AI_Tool/.venv/lib/python3.10/site-packages (from huggingface-hub>=0.20.0->sentence-transformers==3.4.1) (2024.9.0)\n",
      "Requirement already satisfied: packaging>=20.9 in /home/vivekkumar/vivek/AI_Tool/.venv/lib/python3.10/site-packages (from huggingface-hub>=0.20.0->sentence-transformers==3.4.1) (24.2)\n",
      "Requirement already satisfied: pyyaml>=5.1 in /home/vivekkumar/vivek/AI_Tool/.venv/lib/python3.10/site-packages (from huggingface-hub>=0.20.0->sentence-transformers==3.4.1) (6.0.2)\n",
      "Requirement already satisfied: requests in /home/vivekkumar/vivek/AI_Tool/.venv/lib/python3.10/site-packages (from huggingface-hub>=0.20.0->sentence-transformers==3.4.1) (2.32.3)\n",
      "Requirement already satisfied: typing-extensions>=3.7.4.3 in /home/vivekkumar/vivek/AI_Tool/.venv/lib/python3.10/site-packages (from huggingface-hub>=0.20.0->sentence-transformers==3.4.1) (4.12.2)\n",
      "Requirement already satisfied: networkx in /home/vivekkumar/vivek/AI_Tool/.venv/lib/python3.10/site-packages (from torch>=1.11.0->sentence-transformers==3.4.1) (3.4.2)\n",
      "Requirement already satisfied: jinja2 in /home/vivekkumar/vivek/AI_Tool/.venv/lib/python3.10/site-packages (from torch>=1.11.0->sentence-transformers==3.4.1) (3.1.5)\n",
      "Requirement already satisfied: nvidia-cuda-nvrtc-cu12==12.4.127 in /home/vivekkumar/vivek/AI_Tool/.venv/lib/python3.10/site-packages (from torch>=1.11.0->sentence-transformers==3.4.1) (12.4.127)\n",
      "Requirement already satisfied: nvidia-cuda-runtime-cu12==12.4.127 in /home/vivekkumar/vivek/AI_Tool/.venv/lib/python3.10/site-packages (from torch>=1.11.0->sentence-transformers==3.4.1) (12.4.127)\n",
      "Requirement already satisfied: nvidia-cuda-cupti-cu12==12.4.127 in /home/vivekkumar/vivek/AI_Tool/.venv/lib/python3.10/site-packages (from torch>=1.11.0->sentence-transformers==3.4.1) (12.4.127)\n",
      "Requirement already satisfied: nvidia-cudnn-cu12==9.1.0.70 in /home/vivekkumar/vivek/AI_Tool/.venv/lib/python3.10/site-packages (from torch>=1.11.0->sentence-transformers==3.4.1) (9.1.0.70)\n",
      "Requirement already satisfied: nvidia-cublas-cu12==12.4.5.8 in /home/vivekkumar/vivek/AI_Tool/.venv/lib/python3.10/site-packages (from torch>=1.11.0->sentence-transformers==3.4.1) (12.4.5.8)\n",
      "Requirement already satisfied: nvidia-cufft-cu12==11.2.1.3 in /home/vivekkumar/vivek/AI_Tool/.venv/lib/python3.10/site-packages (from torch>=1.11.0->sentence-transformers==3.4.1) (11.2.1.3)\n",
      "Requirement already satisfied: nvidia-curand-cu12==10.3.5.147 in /home/vivekkumar/vivek/AI_Tool/.venv/lib/python3.10/site-packages (from torch>=1.11.0->sentence-transformers==3.4.1) (10.3.5.147)\n",
      "Requirement already satisfied: nvidia-cusolver-cu12==11.6.1.9 in /home/vivekkumar/vivek/AI_Tool/.venv/lib/python3.10/site-packages (from torch>=1.11.0->sentence-transformers==3.4.1) (11.6.1.9)\n",
      "Requirement already satisfied: nvidia-cusparse-cu12==12.3.1.170 in /home/vivekkumar/vivek/AI_Tool/.venv/lib/python3.10/site-packages (from torch>=1.11.0->sentence-transformers==3.4.1) (12.3.1.170)\n",
      "Requirement already satisfied: nvidia-cusparselt-cu12==0.6.2 in /home/vivekkumar/vivek/AI_Tool/.venv/lib/python3.10/site-packages (from torch>=1.11.0->sentence-transformers==3.4.1) (0.6.2)\n",
      "Requirement already satisfied: nvidia-nccl-cu12==2.21.5 in /home/vivekkumar/vivek/AI_Tool/.venv/lib/python3.10/site-packages (from torch>=1.11.0->sentence-transformers==3.4.1) (2.21.5)\n",
      "Requirement already satisfied: nvidia-nvtx-cu12==12.4.127 in /home/vivekkumar/vivek/AI_Tool/.venv/lib/python3.10/site-packages (from torch>=1.11.0->sentence-transformers==3.4.1) (12.4.127)\n",
      "Requirement already satisfied: nvidia-nvjitlink-cu12==12.4.127 in /home/vivekkumar/vivek/AI_Tool/.venv/lib/python3.10/site-packages (from torch>=1.11.0->sentence-transformers==3.4.1) (12.4.127)\n",
      "Requirement already satisfied: triton==3.2.0 in /home/vivekkumar/vivek/AI_Tool/.venv/lib/python3.10/site-packages (from torch>=1.11.0->sentence-transformers==3.4.1) (3.2.0)\n",
      "Requirement already satisfied: sympy==1.13.1 in /home/vivekkumar/vivek/AI_Tool/.venv/lib/python3.10/site-packages (from torch>=1.11.0->sentence-transformers==3.4.1) (1.13.1)\n",
      "Requirement already satisfied: mpmath<1.4,>=1.1.0 in /home/vivekkumar/vivek/AI_Tool/.venv/lib/python3.10/site-packages (from sympy==1.13.1->torch>=1.11.0->sentence-transformers==3.4.1) (1.3.0)\n",
      "Requirement already satisfied: numpy>=1.17 in /home/vivekkumar/vivek/AI_Tool/.venv/lib/python3.10/site-packages (from transformers<5.0.0,>=4.41.0->sentence-transformers==3.4.1) (1.26.4)\n",
      "Requirement already satisfied: regex!=2019.12.17 in /home/vivekkumar/vivek/AI_Tool/.venv/lib/python3.10/site-packages (from transformers<5.0.0,>=4.41.0->sentence-transformers==3.4.1) (2024.11.6)\n",
      "Requirement already satisfied: tokenizers<0.22,>=0.21 in /home/vivekkumar/vivek/AI_Tool/.venv/lib/python3.10/site-packages (from transformers<5.0.0,>=4.41.0->sentence-transformers==3.4.1) (0.21.0)\n",
      "Requirement already satisfied: safetensors>=0.4.1 in /home/vivekkumar/vivek/AI_Tool/.venv/lib/python3.10/site-packages (from transformers<5.0.0,>=4.41.0->sentence-transformers==3.4.1) (0.5.2)\n",
      "Requirement already satisfied: joblib>=1.2.0 in /home/vivekkumar/vivek/AI_Tool/.venv/lib/python3.10/site-packages (from scikit-learn->sentence-transformers==3.4.1) (1.4.2)\n",
      "Requirement already satisfied: threadpoolctl>=3.1.0 in /home/vivekkumar/vivek/AI_Tool/.venv/lib/python3.10/site-packages (from scikit-learn->sentence-transformers==3.4.1) (3.5.0)\n",
      "Requirement already satisfied: MarkupSafe>=2.0 in /home/vivekkumar/vivek/AI_Tool/.venv/lib/python3.10/site-packages (from jinja2->torch>=1.11.0->sentence-transformers==3.4.1) (3.0.2)\n",
      "Requirement already satisfied: charset-normalizer<4,>=2 in /home/vivekkumar/vivek/AI_Tool/.venv/lib/python3.10/site-packages (from requests->huggingface-hub>=0.20.0->sentence-transformers==3.4.1) (3.4.1)\n",
      "Requirement already satisfied: idna<4,>=2.5 in /home/vivekkumar/vivek/AI_Tool/.venv/lib/python3.10/site-packages (from requests->huggingface-hub>=0.20.0->sentence-transformers==3.4.1) (3.10)\n",
      "Requirement already satisfied: urllib3<3,>=1.21.1 in /home/vivekkumar/vivek/AI_Tool/.venv/lib/python3.10/site-packages (from requests->huggingface-hub>=0.20.0->sentence-transformers==3.4.1) (2.3.0)\n",
      "Requirement already satisfied: certifi>=2017.4.17 in /home/vivekkumar/vivek/AI_Tool/.venv/lib/python3.10/site-packages (from requests->huggingface-hub>=0.20.0->sentence-transformers==3.4.1) (2025.1.31)\n",
      "Downloading sentence_transformers-3.4.1-py3-none-any.whl (275 kB)\n",
      "Installing collected packages: sentence-transformers\n",
      "  Attempting uninstall: sentence-transformers\n",
      "    Found existing installation: sentence-transformers 2.7.0\n",
      "    Uninstalling sentence-transformers-2.7.0:\n",
      "      Successfully uninstalled sentence-transformers-2.7.0\n",
      "Successfully installed sentence-transformers-3.4.1\n",
      "\n",
      "\u001b[1m[\u001b[0m\u001b[34;49mnotice\u001b[0m\u001b[1;39;49m]\u001b[0m\u001b[39;49m A new release of pip is available: \u001b[0m\u001b[31;49m25.0\u001b[0m\u001b[39;49m -> \u001b[0m\u001b[32;49m25.0.1\u001b[0m\n",
      "\u001b[1m[\u001b[0m\u001b[34;49mnotice\u001b[0m\u001b[1;39;49m]\u001b[0m\u001b[39;49m To update, run: \u001b[0m\u001b[32;49mpip install --upgrade pip\u001b[0m\n"
     ]
    }
   ],
   "source": [
    "! pip install sentence-transformers==3.4.1"
   ]
  },
  {
   "cell_type": "code",
   "execution_count": 1,
   "metadata": {},
   "outputs": [],
   "source": [
    "from datasets import load_dataset\n",
    "from sentence_transformers import (\n",
    "    SentenceTransformer,\n",
    "    # SentenceTransformerTrainer,\n",
    "    losses, evaluation,InputExample,\n",
    "    # SentenceTransformerTrainingArguments,\n",
    ")\n",
    "from torch.utils.data import DataLoader\n",
    "from sentence_transformers.losses import MultipleNegativesRankingLoss\n",
    "from sentence_transformers.training_args import BatchSamplers\n",
    "from sentence_transformers.evaluation import TripletEvaluator"
   ]
  },
  {
   "cell_type": "markdown",
   "metadata": {},
   "source": [
    "import pre-trained model"
   ]
  },
  {
   "cell_type": "code",
   "execution_count": 2,
   "metadata": {},
   "outputs": [],
   "source": [
    "model_name = \"sentence-transformers/all-distilroberta-v1\" # acc = 0.88\n",
    "model = SentenceTransformer(model_name)\n",
    "\n",
    "# # other models\n",
    "# model_name = \"microsoft/mpnet-base\" # acc = 0.57\n",
    "# model_name = \"sentence-transformers/msmarco-bert-base-dot-v5\" # acc = 0.09\n",
    "# model_name = \"sentence-transformers/msmarco-distilbert-dot-v5\" # acc = 0.13"
   ]
  },
  {
   "cell_type": "markdown",
   "metadata": {},
   "source": [
    "load dataset"
   ]
  },
  {
   "cell_type": "code",
   "execution_count": 3,
   "metadata": {},
   "outputs": [],
   "source": [
    "dataset = load_dataset(\"shawhin/ai-job-embedding-finetuning\")"
   ]
  },
  {
   "cell_type": "markdown",
   "metadata": {},
   "source": [
    "evaluate pre-trained model on eval data"
   ]
  },
  {
   "cell_type": "code",
   "execution_count": 4,
   "metadata": {},
   "outputs": [
    {
     "data": {
      "text/plain": [
       "{'ai-job-validation_cosine_accuracy': 0.8811880946159363}"
      ]
     },
     "execution_count": 4,
     "metadata": {},
     "output_type": "execute_result"
    }
   ],
   "source": [
    "evaluator_valid = TripletEvaluator(\n",
    "    anchors=dataset[\"validation\"][\"query\"],\n",
    "    positives=dataset[\"validation\"][\"job_description_pos\"],\n",
    "    negatives=dataset[\"validation\"][\"job_description_neg\"],\n",
    "    name=\"ai-job-validation\",\n",
    ")\n",
    "evaluator_valid(model)"
   ]
  },
  {
   "cell_type": "markdown",
   "metadata": {},
   "source": [
    "define loss function"
   ]
  },
  {
   "cell_type": "code",
   "execution_count": 5,
   "metadata": {},
   "outputs": [],
   "source": [
    "loss = MultipleNegativesRankingLoss(model)"
   ]
  },
  {
   "cell_type": "markdown",
   "metadata": {},
   "source": [
    "define training args"
   ]
  },
  {
   "cell_type": "code",
   "execution_count": 6,
   "metadata": {},
   "outputs": [],
   "source": [
    "num_epochs = 2\n",
    "batch_size = 2\n",
    "# lr = 2e-5\n",
    "finetuned_model_name = \"distilroberta-ai-job-embeddings\"\n",
    "    \n",
    "train_examples = [\n",
    "    InputExample(texts=[query, job_pos])  # Convert to expected format\n",
    "    for query, job_pos in zip(dataset[\"train\"][\"query\"], dataset[\"train\"][\"job_description_pos\"])\n",
    "]\n",
    "\n",
    "# Create DataLoader\n",
    "train_dataloader = DataLoader(train_examples, batch_size=batch_size, shuffle=True)\n",
    "\n",
    "# train_args = SentenceTransformerTrainingArguments(\n",
    "#     output_dir=f\"models/{finetuned_model_name}\",\n",
    "#     num_train_epochs=num_epochs,\n",
    "#     per_device_train_batch_size=batch_size,\n",
    "#     per_device_eval_batch_size=batch_size,\n",
    "#     learning_rate=lr,\n",
    "#     warmup_ratio=0.1,\n",
    "#     batch_sampler=BatchSamplers.NO_DUPLICATES,  # MultipleNegativesRankingLoss benefits from no duplicate samples in a batch\n",
    "#     eval_strategy=\"steps\",\n",
    "#     eval_steps=100,\n",
    "#     logging_steps=100,\n",
    "# )\n"
   ]
  },
  {
   "cell_type": "code",
   "execution_count": 7,
   "metadata": {},
   "outputs": [
    {
     "name": "stderr",
     "output_type": "stream",
     "text": [
      "/home/vivekkumar/vivek/AI_Tool/.venv/lib/python3.10/site-packages/torch/cuda/__init__.py:734: UserWarning: Can't initialize NVML\n",
      "  warnings.warn(\"Can't initialize NVML\")\n"
     ]
    },
    {
     "data": {
      "application/vnd.jupyter.widget-view+json": {
       "model_id": "5d7b835241bf4484871daa82923fd000",
       "version_major": 2,
       "version_minor": 0
      },
      "text/plain": [
       "Computing widget examples:   0%|          | 0/1 [00:00<?, ?example/s]"
      ]
     },
     "metadata": {},
     "output_type": "display_data"
    },
    {
     "data": {
      "text/html": [
       "\n",
       "    <div>\n",
       "      \n",
       "      <progress value='810' max='810' style='width:300px; height:20px; vertical-align: middle;'></progress>\n",
       "      [810/810 34:36, Epoch 2/2]\n",
       "    </div>\n",
       "    <table border=\"1\" class=\"dataframe\">\n",
       "  <thead>\n",
       " <tr style=\"text-align: left;\">\n",
       "      <th>Step</th>\n",
       "      <th>Training Loss</th>\n",
       "      <th>Validation Loss</th>\n",
       "      <th>Ai-job-validation Cosine Accuracy</th>\n",
       "    </tr>\n",
       "  </thead>\n",
       "  <tbody>\n",
       "    <tr>\n",
       "      <td>405</td>\n",
       "      <td>No log</td>\n",
       "      <td>No log</td>\n",
       "      <td>0.990099</td>\n",
       "    </tr>\n",
       "    <tr>\n",
       "      <td>500</td>\n",
       "      <td>0.070000</td>\n",
       "      <td>No Log</td>\n",
       "      <td>No Log</td>\n",
       "    </tr>\n",
       "    <tr>\n",
       "      <td>810</td>\n",
       "      <td>0.070000</td>\n",
       "      <td>No log</td>\n",
       "      <td>0.990099</td>\n",
       "    </tr>\n",
       "  </tbody>\n",
       "</table><p>"
      ],
      "text/plain": [
       "<IPython.core.display.HTML object>"
      ]
     },
     "metadata": {},
     "output_type": "display_data"
    }
   ],
   "source": [
    "model.fit(\n",
    "    train_objectives=[(train_dataloader, loss)],\n",
    "    evaluator=evaluator_valid,\n",
    "    epochs=num_epochs,\n",
    "    warmup_steps=100\n",
    ")"
   ]
  },
  {
   "cell_type": "markdown",
   "metadata": {},
   "source": [
    "fine-tune model"
   ]
  },
  {
   "cell_type": "code",
   "execution_count": 8,
   "metadata": {},
   "outputs": [],
   "source": [
    "# %%time\n",
    "# trainer = SentenceTransformerTrainer(\n",
    "#     model=model,\n",
    "#     args=train_args,\n",
    "#     train_dataset=dataset[\"train\"],\n",
    "#     eval_dataset=dataset[\"validation\"],\n",
    "#     loss=loss,\n",
    "#     evaluator=evaluator_valid,\n",
    "# )\n",
    "# trainer.train()\n",
    "model.save(f\"models/{finetuned_model_name}\")"
   ]
  },
  {
   "cell_type": "markdown",
   "metadata": {},
   "source": [
    "evaluate fine-tuned model"
   ]
  },
  {
   "cell_type": "code",
   "execution_count": 9,
   "metadata": {},
   "outputs": [
    {
     "name": "stdout",
     "output_type": "stream",
     "text": [
      "Validation: {'ai-job-validation_cosine_accuracy': 0.9900990128517151}\n",
      "Test: {'ai-job-test_cosine_accuracy': 1.0}\n"
     ]
    }
   ],
   "source": [
    "evaluator_test = TripletEvaluator(\n",
    "    anchors=dataset[\"test\"][\"query\"],\n",
    "    positives=dataset[\"test\"][\"job_description_pos\"],\n",
    "    negatives=dataset[\"test\"][\"job_description_neg\"],\n",
    "    name=\"ai-job-test\",\n",
    ")\n",
    "print(\"Validation:\", evaluator_valid(model))\n",
    "print(\"Test:\", evaluator_test(model))"
   ]
  },
  {
   "cell_type": "markdown",
   "metadata": {},
   "source": [
    "push fine-tuned model to HF hub"
   ]
  },
  {
   "cell_type": "code",
   "execution_count": 10,
   "metadata": {},
   "outputs": [
    {
     "data": {
      "application/vnd.jupyter.widget-view+json": {
       "model_id": "2e1f337fbc6f418e8612de81f184fa8e",
       "version_major": 2,
       "version_minor": 0
      },
      "text/plain": [
       "VBox(children=(HTML(value='<center> <img\\nsrc=https://huggingface.co/front/assets/huggingface_logo-noborder.sv…"
      ]
     },
     "metadata": {},
     "output_type": "display_data"
    }
   ],
   "source": [
    "from huggingface_hub import login\n",
    "import os\n",
    "\n",
    "access_token=os.getenv(\"HUGGINGFACE_KEY\")\n",
    "\n",
    "write_key = access_token\n",
    "login(write_key)"
   ]
  },
  {
   "cell_type": "code",
   "execution_count": 11,
   "metadata": {},
   "outputs": [
    {
     "data": {
      "application/vnd.jupyter.widget-view+json": {
       "model_id": "214fdd2ba1544524b2809b0603a3b436",
       "version_major": 2,
       "version_minor": 0
      },
      "text/plain": [
       "model.safetensors:   0%|          | 0.00/328M [00:00<?, ?B/s]"
      ]
     },
     "metadata": {},
     "output_type": "display_data"
    },
    {
     "data": {
      "text/plain": [
       "'https://huggingface.co/krshahvivek/distilroberta-ai-job-embeddings/commit/e2eed1ca0a858eddd0c2839fe2b17d807a25c019'"
      ]
     },
     "execution_count": 11,
     "metadata": {},
     "output_type": "execute_result"
    }
   ],
   "source": [
    "model_id = \"krshahvivek/\"+finetuned_model_name\n",
    "model.push_to_hub(model_id)"
   ]
  }
 ],
 "metadata": {
  "kernelspec": {
   "display_name": ".venv",
   "language": "python",
   "name": "python3"
  },
  "language_info": {
   "codemirror_mode": {
    "name": "ipython",
    "version": 3
   },
   "file_extension": ".py",
   "mimetype": "text/x-python",
   "name": "python",
   "nbconvert_exporter": "python",
   "pygments_lexer": "ipython3",
   "version": "3.10.12"
  }
 },
 "nbformat": 4,
 "nbformat_minor": 2
}
